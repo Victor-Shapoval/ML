{
 "cells": [
  {
   "cell_type": "code",
   "execution_count": 70,
   "metadata": {},
   "outputs": [],
   "source": [
    "import numpy as np\n",
    "from pprint import pprint\n",
    "import pandas as pd\n",
    "\n",
    "\n",
    "X = np.array([\n",
    "    [3,51,3,0,1,0],\n",
    "    [1,30,1,0,1,0],\n",
    "    [2,45,2,0,1,0],\n",
    "    [3,55,1,0,1,0],\n",
    "    [1,45,3,1,0,0],\n",
    "    [3,100,3,1,0,0],\n",
    "    [2,71,2,1,0,0],\n",
    "    [1,31,2,0,0,1],\n",
    "    [3,53,5,0,0,1],\n",
    "    [1,33,3,0,0,1],\n",
    "    [2,43,5,0,0,1]\n",
    "    ])\n",
    "\n",
    "Y = np.array([2200,1600,1900,2000,4500,7000,5000,1700,2100,1500,2000])\n"
   ]
  },
  {
   "cell_type": "markdown",
   "metadata": {
    "id": "DQQFfNTLJ20S"
   },
   "source": [
    "# Задание 1"
   ]
  },
  {
   "cell_type": "code",
   "execution_count": 71,
   "metadata": {
    "id": "XqAzbM6WJyE2"
   },
   "outputs": [
    {
     "name": "stdout",
     "output_type": "stream",
     "text": [
      "(AxB)xC\n"
     ]
    }
   ],
   "source": [
    "def multiplication_order(A, B, C):\n",
    "    ab = int(A.shape[0] * B.shape[1] * B.shape[1])\n",
    "    bc = int(B.shape[0] * C.shape[1] * C.shape[1])\n",
    "    if ab <= bc:\n",
    "        return '(AxB)xC'\n",
    "    else:\n",
    "        return 'Ax(BxC)'\n",
    "\n",
    "\n",
    "A = np.array([[1, 2]])\n",
    "B = np.array([[2], \n",
    "              [1]])\n",
    "C = np.array([[5]])\n",
    "\n",
    "print(multiplication_order(A, B, C))"
   ]
  },
  {
   "cell_type": "markdown",
   "metadata": {
    "id": "vQvUEt_KKShX"
   },
   "source": [
    "# Задание 2\n"
   ]
  },
  {
   "cell_type": "code",
   "execution_count": 72,
   "metadata": {
    "id": "TMJq9ob2KYBY"
   },
   "outputs": [
    {
     "name": "stdout",
     "output_type": "stream",
     "text": [
      "(3, 2)\n"
     ]
    }
   ],
   "source": [
    "def best_worst(X, Y):\n",
    "    df = abs(np.corrcoef(X.T, Y)[:-1,-1])\n",
    "    max_corr_idx = df.max()\n",
    "    min_corr_idx = df.min()\n",
    "    lst = list(df)\n",
    "    return lst.index(max_corr_idx), lst.index(min_corr_idx)\n",
    "\n",
    "print(best_worst(X, Y))"
   ]
  },
  {
   "cell_type": "markdown",
   "metadata": {
    "id": "hindpJMCKhB8"
   },
   "source": [
    "#Задание 3\n"
   ]
  },
  {
   "cell_type": "code",
   "execution_count": 73,
   "metadata": {
    "id": "-YLajcsEKkuQ"
   },
   "outputs": [
    {
     "name": "stdout",
     "output_type": "stream",
     "text": [
      "5\n"
     ]
    }
   ],
   "source": [
    "def corr_rank(X):\n",
    "    return(np.linalg.matrix_rank(np.corrcoef(X, X)))\n",
    "\n",
    "print(corr_rank(X))"
   ]
  },
  {
   "cell_type": "markdown",
   "metadata": {
    "id": "tKweU9DCKk-f"
   },
   "source": [
    "# Задание 4"
   ]
  },
  {
   "cell_type": "code",
   "execution_count": null,
   "metadata": {
    "id": "pi2fjbkjKmzi"
   },
   "outputs": [
    {
     "name": "stdout",
     "output_type": "stream",
     "text": [
      "[[-0.33333333  0.66666667]\n",
      " [ 0.66666667 -0.33333333]]\n"
     ]
    }
   ],
   "source": [
    "def inverse_matrix(A):\n",
    "    if abs(np.linalg.det(A)) >= 0.001:\n",
    "        return np.linalg.inv(A)\n",
    "\n",
    "print(inverse_matrix(A))"
   ]
  },
  {
   "cell_type": "markdown",
   "metadata": {
    "id": "pnIqMUVsKnTq"
   },
   "source": [
    "# Задание 5"
   ]
  },
  {
   "cell_type": "code",
   "execution_count": 81,
   "metadata": {
    "id": "g34wFIBuKpmL"
   },
   "outputs": [
    {
     "name": "stdout",
     "output_type": "stream",
     "text": [
      "[-574.12295766   65.33255763  141.80223878 1566.16246224   12.32450391\n",
      " -315.34552489]\n"
     ]
    }
   ],
   "source": [
    "def fit_model(X, y):\n",
    "    return np.linalg.inv(X.T @ X) @ X.T @ y\n",
    "\n",
    "print(fit_model(X, Y))\n"
   ]
  }
 ],
 "metadata": {
  "colab": {
   "provenance": []
  },
  "kernelspec": {
   "display_name": "venv",
   "language": "python",
   "name": "python3"
  },
  "language_info": {
   "codemirror_mode": {
    "name": "ipython",
    "version": 3
   },
   "file_extension": ".py",
   "mimetype": "text/x-python",
   "name": "python",
   "nbconvert_exporter": "python",
   "pygments_lexer": "ipython3",
   "version": "3.12.0"
  }
 },
 "nbformat": 4,
 "nbformat_minor": 0
}
