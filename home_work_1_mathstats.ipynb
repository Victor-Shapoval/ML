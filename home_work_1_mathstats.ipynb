{
 "cells": [
  {
   "cell_type": "code",
   "execution_count": 86,
   "id": "582055b7",
   "metadata": {},
   "outputs": [],
   "source": [
    "# библиотеки\n",
    "import numpy as np\n",
    "import scipy.stats as stats\n",
    "from plotly import express as px\n",
    "import pandas as pd\n",
    "import statsmodels.api as sm\n",
    "from statsmodels.formula.api import ols\n",
    "from statsmodels.stats.anova import anova_lm"
   ]
  },
  {
   "cell_type": "markdown",
   "id": "e5c0f0e1-1ce1-4d98-b7fe-a7ab438f1260",
   "metadata": {},
   "source": [
    "**Задание 1 (на сопоставление)**"
   ]
  },
  {
   "cell_type": "code",
   "execution_count": 3,
   "id": "237f3145-8a79-4809-8e28-ac3b84dc5653",
   "metadata": {},
   "outputs": [
    {
     "name": "stdout",
     "output_type": "stream",
     "text": [
      "Ответ:\n",
      "1) z-тест - E\n",
      "2) t-тест - B\n",
      "3) F-тест - F\n",
      "4) χ2-тест - G, C, D\n",
      "5) ANOVA - A\n"
     ]
    }
   ],
   "source": [
    "print(f'Ответ:\\n'\n",
    "f'1) z-тест - E\\n'\n",
    "f'2) t-тест - B\\n'\n",
    "f'3) F-тест - F\\n'\n",
    "f'4) χ2-тест - G, C, D\\n'\n",
    "f'5) ANOVA - A')"
   ]
  },
  {
   "cell_type": "markdown",
   "id": "e8eecee9-8ad7-4f85-9dfa-a58fa415b076",
   "metadata": {},
   "source": [
    "**Задание 2 (про порошок)**"
   ]
  },
  {
   "cell_type": "code",
   "execution_count": 4,
   "id": "6104ff71-0cfc-4d8b-9b7e-c1e3641b3c87",
   "metadata": {},
   "outputs": [
    {
     "name": "stdout",
     "output_type": "stream",
     "text": [
      "z-оценка : 2.3570226039551083\n",
      "\n",
      "Критическая z-оценка : 1.959963984540054\n",
      "Отклонить нулевую гипотезу\n",
      "\n",
      "p-value : 0.009211062727050745\n",
      "Отклонить нулевую гипотезу\n"
     ]
    }
   ],
   "source": [
    "# необходимо проверить равенства средней выборки нормально распределённых величин некоторому значению\n",
    "# для этого используется z-тест\n",
    "\n",
    "powder_mean = 3\n",
    "powder_std = 0.015\n",
    "alpha = 0.05\n",
    "sample_size = 50\n",
    "sample_mean = 3.005\n",
    "\n",
    "# Расчет z-оценки\n",
    "z_score = (sample_mean-powder_mean)/(powder_std/np.sqrt(50))\n",
    "print('z-оценка :',z_score)\n",
    "print()\n",
    "\n",
    "# Принятие решения на основе критического значения z\n",
    "# alpha/2 - так как значение отклониения может отличаться и в большую и в меньшую сторону\n",
    "z_critical = stats.norm.ppf(1-alpha/2)\n",
    "print('Критическая z-оценка :',z_critical)\n",
    "if z_score >  z_critical:\n",
    "    print(\"Отклонить нулевую гипотезу\")\n",
    "else:\n",
    "  print(\"Нельзя отклонить нулевую гипотезу\")\n",
    "print()\n",
    "\n",
    "# Принятие решения на основе p-значения\n",
    "p_value = 1-stats.norm.cdf(z_score)\n",
    "print('p-value :',p_value)\n",
    "if p_value <  alpha:\n",
    "    print(\"Отклонить нулевую гипотезу\")\n",
    "else:\n",
    "  print(\"Нельзя отклонить нулевую гипотезу\")\n",
    "\n",
    "# Статистический вывод:\n",
    "# Есть основания отвергнуть нулевую гипотезу в пользу альтернативной.\n",
    "\n",
    "# Содержательный вывод:\n",
    "# Уровень отклонения составляет больше заданных норм, что дает право сделать вывод о некорректно работающем дозаторе."
   ]
  },
  {
   "cell_type": "markdown",
   "id": "17ad34a0-cbb3-482a-99d4-253f0b70f05f",
   "metadata": {},
   "source": [
    "**Задание 3 (про двигатели)**"
   ]
  },
  {
   "cell_type": "code",
   "execution_count": 5,
   "id": "81d6e912-5bf8-4b72-b33f-097e6037d7d4",
   "metadata": {},
   "outputs": [
    {
     "name": "stdout",
     "output_type": "stream",
     "text": [
      "t-оценка: 2.1663516354146894\n",
      "Критическая t-оценка: 2.0686576104190406\n",
      "Отклонить нулевую гипотезу\n",
      "\n",
      "P-Value: 0.04089279045167045\n",
      "Уровень значимости : 0.05\n",
      "Отклонить нулевую гипотезу\n"
     ]
    }
   ],
   "source": [
    "# Дисперсия генеральной совокупности отсутствует и размер выборки не превышает 30\n",
    "# Необходимо сравнить два набора данных не связанных друг с другом\n",
    "# Необходимо использовать независемый t-тест\n",
    "\n",
    "# Нулевая гипотиза H0 - mean_1 = mean_2\n",
    "# Альтернативная гипотиза HA - mean_1 ≠ mean_2\n",
    "\n",
    "alpha = 0.05\n",
    "\n",
    "# вещество 1\n",
    "size_1 = 15\n",
    "mean_1 = 90\n",
    "std_1 = 2.3\n",
    "\n",
    "# вещество 2\n",
    "size_2 = 10\n",
    "mean_2 = 88\n",
    "std_2 = 2.2\n",
    "\n",
    "# расчет оценки\n",
    "t_score, p_value = stats.ttest_ind_from_stats(mean_1, std_1, size_1, mean_2, std_2, size_2)\n",
    "t_critical = stats.t.ppf(1 - alpha/2, df = size_1 + size_2 - 2)  # alpha/2 так как тест двусторонний\n",
    "\n",
    "# принятие решения\n",
    "print('t-оценка:',t_score)\n",
    "print('Критическая t-оценка:',t_critical)\n",
    "if abs(t_score) > t_critical: \n",
    "    print(\"Отклонить нулевую гипотезу\") \n",
    "else: \n",
    "    print(\"Нельзя отклонить нулевую гипотезу\")\n",
    "print()\n",
    "print('P-Value:',p_value)\n",
    "print('Уровень значимости :', alpha)\n",
    "if p_value < alpha:\n",
    "    print(\"Отклонить нулевую гипотезу\")\n",
    "else:\n",
    "    print(\"Нельзя отклонить нулевую гипотезу\")\n",
    "\n",
    "\n",
    "# Статистический вывод:\n",
    "# Есть основания отвергнуть нулевую гипотезу в пользу альтернативной\n",
    "\n",
    "# Содержательный вывод:\n",
    "# Cуществует разница между средними прочностями двух веществ. Вещество №1 более прочное."
   ]
  },
  {
   "cell_type": "markdown",
   "id": "ad515879-cb2d-43eb-93ee-d3f6bb4b49d4",
   "metadata": {},
   "source": [
    "**Задание 4 (про токи)**"
   ]
  },
  {
   "cell_type": "code",
   "execution_count": null,
   "id": "f0720b4c-0ce0-43e6-be7a-bdb9d593eefd",
   "metadata": {},
   "outputs": [
    {
     "name": "stdout",
     "output_type": "stream",
     "text": [
      "t-оценка : 1.8657246011714124\n",
      "Критическая t-оценка : 2.0859634472658364\n",
      "Нельзя отклонить нулевую гипотезу\n",
      "\n",
      "P-Value : 0.07681685091779608\n",
      "Уровень занчимости : 0.05\n",
      "Нельзя отклонить нулевую гипотезу\n"
     ]
    }
   ],
   "source": [
    "# Размер выборки меньше 30\n",
    "# Неизвестна дисперсия генеральной совокупности\n",
    "# Конструкции отличны друг от друга\n",
    "# Необходимо использовать независмимый t-тест для двух выборок\n",
    "\n",
    "# Нулевая гипотиза H0 - среднее значение тока старой конструкции = среднему значению тока новой конструкции\n",
    "# Альтернативная гипотиза HA - среднее значение тока старой конструкции ≠ среднему значению тока новой конструкции\n",
    "\n",
    "new_design = np.array ([80.7, 81.3, 84.6, 81.7, 86.3, 84.3, 83.7, 84.7, 82.8, 84.4, 85.2, 84.9])\n",
    "old_design = np.array ([80.1, 82.3, 84.1, 82.6, 85.3, 81.3, 83.2, 81.7, 82.2, 81.4])\n",
    "alpha = 0.05\n",
    "\n",
    "# раcчет оценки\n",
    "t_score, p_value = stats.ttest_ind(new_design, old_design, equal_var=True)\n",
    "t_critical = stats.t.ppf(1 - alpha/2, stats.ttest_ind(new_design, old_design).df)\n",
    "\n",
    "# принятие решения\n",
    "print('t-оценка :',t_score)\n",
    "print('Критическая t-оценка :',t_critical)\n",
    "\n",
    "if abs(t_score) > t_critical: \n",
    "    print(\"Отклонить нулевую гипотезу\") \n",
    "else: \n",
    "    print(\"Нельзя отклонить нулевую гипотезу\")\n",
    "print()\n",
    "\n",
    "print('P-Value :',p_value)\n",
    "print('Уровень занчимости :', alpha)\n",
    "\n",
    "if p_value < alpha:\n",
    "    print(\"Отклонить нулевую гипотезу\")\n",
    "else:\n",
    "    print(\"Нельзя отклонить нулевую гипотезу\")\n",
    "\n",
    "# Статистический вывод:\n",
    "# Нет основания отвергнуть нулевую гипотезу в пользу альтернативной\n",
    "\n",
    "# Содержательный вывод:\n",
    "# Среднее значение тока старой конструкции = среднему значению тока новой конструкции => можно внедрять новую конструкцию"
   ]
  },
  {
   "cell_type": "markdown",
   "id": "46f3a4d3-149d-45c3-bdae-df806e07bae1",
   "metadata": {},
   "source": [
    "**Задание 5 (про глюкозу)**"
   ]
  },
  {
   "cell_type": "code",
   "execution_count": null,
   "id": "14596427-0d20-4ffe-8c38-e941fe204a9d",
   "metadata": {},
   "outputs": [
    {
     "name": "stdout",
     "output_type": "stream",
     "text": [
      "t-оценка : 5.713032381721969\n",
      "Критическая t-оценка : 1.8331129326536335\n",
      "Отклонить нулевую гипотезу\n",
      "\n",
      "P-Value : 0.0002894940396753496\n",
      "Уровень занчимости : 0.05\n",
      "Отклонить нулевую гипотезу\n"
     ]
    }
   ],
   "source": [
    "# Неизвестна дисперсия генеральной совокупности\n",
    "# Размер выборки меньше 30\n",
    "# Конструкции одинакового размера\n",
    "# Необходимо использовать парный t-тест для двух выборок\n",
    "\n",
    "# Нулевая гипотиза H0 - среднее значение уровня глюкозы до препарата = среднему значению глюкозы после препарата\n",
    "# Альтернативная гипотиза HA - среднее значение уровня глюкозы после препарата < среднего значения глюкозы до препарата\n",
    "\n",
    "after_glucose = [9.6, 8.1, 8.8, 7.9, 9.2, 8.0, 8.4, 10.1, 7.8, 8.1]\n",
    "before_glucose = [7.7, 6.2, 7.4, 7.5, 8.3, 6.2, 8.1, 8.9, 7.4, 7.0]\n",
    "alpha = 0.05\n",
    "size = 10\n",
    "\n",
    "# Расчет оценки\n",
    "t_score, p_value = stats.ttest_rel(after_glucose, before_glucose)\n",
    "t_critical = stats.t.ppf(1 - alpha, df = size-1)\n",
    "\n",
    "# принятие решения\n",
    "print('t-оценка :',t_score)\n",
    "print('Критическая t-оценка :',t_critical)\n",
    "\n",
    "if abs(t_score) > t_critical: \n",
    "    print(\"Отклонить нулевую гипотезу\") \n",
    "else: \n",
    "    print(\"Нельзя отклонить нулевую гипотезу\")\n",
    "print()\n",
    "\n",
    "print('P-Value :',p_value)\n",
    "print('Уровень занчимости :', alpha)\n",
    "\n",
    "if p_value < alpha:\n",
    "    print(\"Отклонить нулевую гипотезу\")\n",
    "else:\n",
    "    print(\"Нельзя отклонить нулевую гипотезу\")\n",
    "\n",
    "# Статистический вывод:\n",
    "# Есть основания отвергнуть нулевую гипотезу в пользу альтернативной\n",
    "\n",
    "# Содержательный вывод:\n",
    "# Среднее значение уровня глюкозы после приема препарата меньше чем до его использвования.\n",
    "# Применение нового средства приводит к снижению уровня глюкозы в крови у пациентов с сахарным диабетом.\n",
    "# Средство эффективно."
   ]
  },
  {
   "cell_type": "markdown",
   "id": "31d98391-527f-40ec-9212-5765fcec7794",
   "metadata": {},
   "source": [
    "**Задание 6 (про тросы)**"
   ]
  },
  {
   "cell_type": "code",
   "execution_count": null,
   "id": "0e3867b6-8f7a-499b-9c16-2708357091f1",
   "metadata": {},
   "outputs": [
    {
     "name": "stdout",
     "output_type": "stream",
     "text": [
      "t-оценка : 3.120397708249153\n",
      "Критическая t-оценка : 2.583487185267472\n",
      "Отклонить нулевую гипотезу\n",
      "\n",
      "P-Value : 0.007590047168227897\n",
      "Уровень занчимости : 0.01\n",
      "Отклонить нулевую гипотезу\n"
     ]
    }
   ],
   "source": [
    "# Размер выборки меньше 30\n",
    "# Неизвестна дисперсия генеральной совокупности\n",
    "# Конструкции отличны друг от друга\n",
    "# Необходимо использовать независмимый t-тест для двух выборок\n",
    "\n",
    "# Нулевая гипотиза H0 - среднее напряжение разрушение нового кабеля = среднему напряжению разрушения старого кабеля\n",
    "# Альтернативная гипотиза HA - среднее напряжение разрушения нового кабеля > среднего напряжения разрушения старого кабеля\n",
    "\n",
    "new_cable = np.array ([92.7, 91.6, 94.7, 93.7, 96.5, 94.3, 93.7, 96.8, 98.9, 99.9])\n",
    "old_cable = np.array ([90.1, 92.2, 94.3, 92.1, 93.4, 91.1, 93.2, 91.5])\n",
    "alpha = 0.01\n",
    "\n",
    "# расчет оценки\n",
    "t_score, p_value = stats.ttest_ind(new_cable, old_cable, equal_var=False)\n",
    "df_cable = stats.ttest_ind(new_cable, old_cable).df\n",
    "t_critical = stats.t.ppf(1 - alpha, df = df_cable)\n",
    "\n",
    "# принятие решения\n",
    "print('t-оценка :',t_score)\n",
    "print('Критическая t-оценка :',t_critical)\n",
    "\n",
    "if abs(t_score) > t_critical: \n",
    "    print(\"Отклонить нулевую гипотезу\") \n",
    "else: \n",
    "    print(\"Нельзя отклонить нулевую гипотезу\")\n",
    "print()\n",
    "\n",
    "print('P-Value :',p_value)\n",
    "print('Уровень занчимости :', alpha)\n",
    "\n",
    "if p_value < alpha:\n",
    "    print(\"Отклонить нулевую гипотезу\")\n",
    "else:\n",
    "    print(\"Нельзя отклонить нулевую гипотезу\")\n",
    "\n",
    "# Статистический вывод:\n",
    "# Есть основания отвергнуть нулевую гипотезу в пользу альтернативной\n",
    "\n",
    "# Содержательный вывод:\n",
    "# Среднее напряжение разрушения нового кабеля больше чем среднее напряжение разрушения старого кабеля\n",
    "# Изготовителю следует заменить старый кабель на новый"
   ]
  },
  {
   "cell_type": "markdown",
   "id": "c94b6ae2-c1fd-46b1-9dff-6c067dae6ac9",
   "metadata": {},
   "source": [
    "**Задание 7 (про абитуриентов)**"
   ]
  },
  {
   "cell_type": "code",
   "execution_count": null,
   "id": "5226283c-a4f1-44f6-a80d-90a16b8f9796",
   "metadata": {},
   "outputs": [
    {
     "name": "stdout",
     "output_type": "stream",
     "text": [
      "t-оценка : -2.7386127875258306\n",
      "Критическая t-оценка : 2.821437925025808\n",
      "Нельзя отклонить нулевую гипотезу\n",
      "\n",
      "P-Value : 0.022899494551768276\n",
      "Уровень занчимости : 0.01\n",
      "Нельзя отклонить нулевую гипотезу\n"
     ]
    }
   ],
   "source": [
    "# Неизвестна дисперсия генеральной совокупности\n",
    "# Размер выборки меньше 30\n",
    "# Конструкции одинакового размера\n",
    "# Необходимо использовать парный t-тест для двух выборок\n",
    "\n",
    "# Нулевая гипотиза H0 - средний результат за тестирование без подготовительных курсов = среднему результату за тестирование с подготовительными курсами\n",
    "# Альтернативная гипотиза HA - средний результат за тестирование без подготовительных курсов < среднего результата за тестирование с подготовительными курсами\n",
    "\n",
    "with_course  = [7, 6, 5, 4, 6, 2, 10, 3, 8, 5] \n",
    "no_course = [9, 6, 4, 5, 7, 4, 10, 6, 9, 6]\n",
    "alpha = 0.01\n",
    "size = 10\n",
    "\n",
    "# расчет оценки\n",
    "t_score, p_value = stats.ttest_rel(with_course, no_course)\n",
    "t_critical = stats.t.ppf(1 - alpha, df = size-1)\n",
    "\n",
    "# принятие решения\n",
    "print('t-оценка :',t_score)\n",
    "print('Критическая t-оценка :',t_critical)\n",
    "\n",
    "if abs(t_score) > t_critical: \n",
    "    print(\"Отклонить нулевую гипотезу\") \n",
    "else: \n",
    "    print(\"Нельзя отклонить нулевую гипотезу\")\n",
    "print()\n",
    "\n",
    "print('P-Value :',p_value)\n",
    "print('Уровень занчимости :', alpha)\n",
    "\n",
    "if p_value < alpha:\n",
    "    print(\"Отклонить нулевую гипотезу\")\n",
    "else:\n",
    "    print(\"Нельзя отклонить нулевую гипотезу\")\n",
    "\n",
    "# Статистический вывод:\n",
    "# Нет основания отвергнуть нулевую гипотезу в пользу альтернативной\n",
    "\n",
    "# Содержательный вывод:\n",
    "# Среднее результатов тестов с подготовительными курсами = среднему значению результатов без подготовительных курсов\n",
    "# Подготовительные курсы никак не влияют на подготовку абитуриаетов\n"
   ]
  },
  {
   "cell_type": "markdown",
   "id": "3457d32d-5ce3-4093-bf60-18cdc0d23a79",
   "metadata": {},
   "source": [
    "**Задание 8 (про фрукты и IQ)**"
   ]
  },
  {
   "cell_type": "code",
   "execution_count": null,
   "id": "a2fa0ca3-f86e-4ce4-9051-3d07abdceeb6",
   "metadata": {},
   "outputs": [
    {
     "name": "stdout",
     "output_type": "stream",
     "text": [
      "\n",
      "F-score: 1.9061769156692805\n",
      "Critical F-Score: 3.178893104458269\n",
      "Нельзя отклонить нулевую гипотезу\n",
      "\n",
      "P-Value : 0.17529362058224196\n",
      "Уровень занчимости : 0.05\n",
      "Нельзя отклонить нулевую гипотезу\n"
     ]
    }
   ],
   "source": [
    "# Требуется сравнить две дисперсии\n",
    "# Необходимо использовать F-тест\n",
    "\n",
    "# Нулевая гипотиза H0 - дисперсия первой группы ≈ дисперсии второй группы (существенно НЕ отличаются)\n",
    "# Альтернативная гипотиза HA - дисперсия первой группы ≠ дисперсии второй группы (существенно отличаются)\n",
    "\n",
    "pears = np.array([124, 102, 142, 130, 131, 124, 127, 115, 108, 109])\n",
    "oranges = np.array([125, 138, 112, 130, 124, 125, 110, 112, 117, 126])\n",
    "alpha = 0.05\n",
    "size = 10\n",
    "\n",
    "# расчет дисперсий\n",
    "S1_orange = oranges.var()*size/(size-1) \n",
    "S2_pear = pears.var()*size/(size-1)\n",
    "\n",
    "# расчет статистики\n",
    "F_score = S2_pear/S1_orange\n",
    "print()\n",
    "\n",
    "# принятие решения\n",
    "F_critical = stats.f.ppf(1 - alpha, dfn = size-1, dfd = size-1)\n",
    "print('F-score:', np.abs(F_score))\n",
    "print('Critical F-Score:', F_critical)\n",
    "\n",
    "if np.abs(F_score) > F_critical:\n",
    "    print(\"Отклонить нулевую гипотезу\")\n",
    "else:\n",
    "    print(\"Нельзя отклонить нулевую гипотезу\")\n",
    "print()\n",
    "\n",
    "# Если статистика больше критического значения, то мы делаем вывод,\n",
    "# что недостаточно доказательств того, что две выборки взяты из одной и той же совокупности значений\n",
    "# Следовательно, мы принимаем гипотезу о том, что дисперсии выборок значительно отличаются.\n",
    "# Если статистика меньше критического значения,\n",
    "# то мы принимаем нулевую гипотезу о том, что две дисперсии выборок равны.\n",
    "\n",
    "p_value = 1 - stats.f.cdf(np.abs(F_score), dfn = size-1, dfd = size-1)\n",
    "print('P-Value :',p_value)\n",
    "print('Уровень занчимости :', alpha)\n",
    "\n",
    "if p_value < alpha:\n",
    "    print(\"Отклонить нулевую гипотезу\")\n",
    "else:\n",
    "    print(\"Нельзя отклонить нулевую гипотезу\")\n",
    "\n",
    "# Статистический вывод:\n",
    "# Нет оснований отвергнуть нулевую гипотезу в пользу альтернативной\n",
    "\n",
    "# Содержательный вывод:\n",
    "# Дисперсии обеих групп одинаковые, соответственно на IQ людей никак не влияют фрукты, которыми они питаются\n",
    " "
   ]
  },
  {
   "cell_type": "markdown",
   "id": "7f6c4b09-ad80-4c83-82fb-472272cef69d",
   "metadata": {},
   "source": [
    "**Задание 9 (про самолеты)**"
   ]
  },
  {
   "cell_type": "code",
   "execution_count": null,
   "id": "d6f044c5-bd38-45a4-a7b8-574bc448650d",
   "metadata": {},
   "outputs": [
    {
     "name": "stdout",
     "output_type": "stream",
     "text": [
      "100\n"
     ]
    },
    {
     "data": {
      "application/vnd.plotly.v1+json": {
       "config": {
        "plotlyServerURL": "https://plot.ly"
       },
       "data": [
        {
         "alignmentgroup": "True",
         "hovertemplate": "x=%{x}<br>y=%{y}<extra></extra>",
         "legendgroup": "",
         "marker": {
          "color": "#636efa",
          "pattern": {
           "shape": ""
          }
         },
         "name": "",
         "offsetgroup": "",
         "orientation": "v",
         "showlegend": false,
         "textposition": "auto",
         "type": "bar",
         "x": [
          1,
          2,
          3,
          4,
          5,
          6,
          7,
          8,
          9
         ],
         "xaxis": "x",
         "y": [
          36,
          23,
          11,
          13,
          8,
          3,
          2,
          1,
          3
         ],
         "yaxis": "y"
        }
       ],
       "layout": {
        "barmode": "relative",
        "legend": {
         "tracegroupgap": 0
        },
        "margin": {
         "t": 60
        },
        "template": {
         "data": {
          "bar": [
           {
            "error_x": {
             "color": "#2a3f5f"
            },
            "error_y": {
             "color": "#2a3f5f"
            },
            "marker": {
             "line": {
              "color": "#E5ECF6",
              "width": 0.5
             },
             "pattern": {
              "fillmode": "overlay",
              "size": 10,
              "solidity": 0.2
             }
            },
            "type": "bar"
           }
          ],
          "barpolar": [
           {
            "marker": {
             "line": {
              "color": "#E5ECF6",
              "width": 0.5
             },
             "pattern": {
              "fillmode": "overlay",
              "size": 10,
              "solidity": 0.2
             }
            },
            "type": "barpolar"
           }
          ],
          "carpet": [
           {
            "aaxis": {
             "endlinecolor": "#2a3f5f",
             "gridcolor": "white",
             "linecolor": "white",
             "minorgridcolor": "white",
             "startlinecolor": "#2a3f5f"
            },
            "baxis": {
             "endlinecolor": "#2a3f5f",
             "gridcolor": "white",
             "linecolor": "white",
             "minorgridcolor": "white",
             "startlinecolor": "#2a3f5f"
            },
            "type": "carpet"
           }
          ],
          "choropleth": [
           {
            "colorbar": {
             "outlinewidth": 0,
             "ticks": ""
            },
            "type": "choropleth"
           }
          ],
          "contour": [
           {
            "colorbar": {
             "outlinewidth": 0,
             "ticks": ""
            },
            "colorscale": [
             [
              0,
              "#0d0887"
             ],
             [
              0.1111111111111111,
              "#46039f"
             ],
             [
              0.2222222222222222,
              "#7201a8"
             ],
             [
              0.3333333333333333,
              "#9c179e"
             ],
             [
              0.4444444444444444,
              "#bd3786"
             ],
             [
              0.5555555555555556,
              "#d8576b"
             ],
             [
              0.6666666666666666,
              "#ed7953"
             ],
             [
              0.7777777777777778,
              "#fb9f3a"
             ],
             [
              0.8888888888888888,
              "#fdca26"
             ],
             [
              1,
              "#f0f921"
             ]
            ],
            "type": "contour"
           }
          ],
          "contourcarpet": [
           {
            "colorbar": {
             "outlinewidth": 0,
             "ticks": ""
            },
            "type": "contourcarpet"
           }
          ],
          "heatmap": [
           {
            "colorbar": {
             "outlinewidth": 0,
             "ticks": ""
            },
            "colorscale": [
             [
              0,
              "#0d0887"
             ],
             [
              0.1111111111111111,
              "#46039f"
             ],
             [
              0.2222222222222222,
              "#7201a8"
             ],
             [
              0.3333333333333333,
              "#9c179e"
             ],
             [
              0.4444444444444444,
              "#bd3786"
             ],
             [
              0.5555555555555556,
              "#d8576b"
             ],
             [
              0.6666666666666666,
              "#ed7953"
             ],
             [
              0.7777777777777778,
              "#fb9f3a"
             ],
             [
              0.8888888888888888,
              "#fdca26"
             ],
             [
              1,
              "#f0f921"
             ]
            ],
            "type": "heatmap"
           }
          ],
          "heatmapgl": [
           {
            "colorbar": {
             "outlinewidth": 0,
             "ticks": ""
            },
            "colorscale": [
             [
              0,
              "#0d0887"
             ],
             [
              0.1111111111111111,
              "#46039f"
             ],
             [
              0.2222222222222222,
              "#7201a8"
             ],
             [
              0.3333333333333333,
              "#9c179e"
             ],
             [
              0.4444444444444444,
              "#bd3786"
             ],
             [
              0.5555555555555556,
              "#d8576b"
             ],
             [
              0.6666666666666666,
              "#ed7953"
             ],
             [
              0.7777777777777778,
              "#fb9f3a"
             ],
             [
              0.8888888888888888,
              "#fdca26"
             ],
             [
              1,
              "#f0f921"
             ]
            ],
            "type": "heatmapgl"
           }
          ],
          "histogram": [
           {
            "marker": {
             "pattern": {
              "fillmode": "overlay",
              "size": 10,
              "solidity": 0.2
             }
            },
            "type": "histogram"
           }
          ],
          "histogram2d": [
           {
            "colorbar": {
             "outlinewidth": 0,
             "ticks": ""
            },
            "colorscale": [
             [
              0,
              "#0d0887"
             ],
             [
              0.1111111111111111,
              "#46039f"
             ],
             [
              0.2222222222222222,
              "#7201a8"
             ],
             [
              0.3333333333333333,
              "#9c179e"
             ],
             [
              0.4444444444444444,
              "#bd3786"
             ],
             [
              0.5555555555555556,
              "#d8576b"
             ],
             [
              0.6666666666666666,
              "#ed7953"
             ],
             [
              0.7777777777777778,
              "#fb9f3a"
             ],
             [
              0.8888888888888888,
              "#fdca26"
             ],
             [
              1,
              "#f0f921"
             ]
            ],
            "type": "histogram2d"
           }
          ],
          "histogram2dcontour": [
           {
            "colorbar": {
             "outlinewidth": 0,
             "ticks": ""
            },
            "colorscale": [
             [
              0,
              "#0d0887"
             ],
             [
              0.1111111111111111,
              "#46039f"
             ],
             [
              0.2222222222222222,
              "#7201a8"
             ],
             [
              0.3333333333333333,
              "#9c179e"
             ],
             [
              0.4444444444444444,
              "#bd3786"
             ],
             [
              0.5555555555555556,
              "#d8576b"
             ],
             [
              0.6666666666666666,
              "#ed7953"
             ],
             [
              0.7777777777777778,
              "#fb9f3a"
             ],
             [
              0.8888888888888888,
              "#fdca26"
             ],
             [
              1,
              "#f0f921"
             ]
            ],
            "type": "histogram2dcontour"
           }
          ],
          "mesh3d": [
           {
            "colorbar": {
             "outlinewidth": 0,
             "ticks": ""
            },
            "type": "mesh3d"
           }
          ],
          "parcoords": [
           {
            "line": {
             "colorbar": {
              "outlinewidth": 0,
              "ticks": ""
             }
            },
            "type": "parcoords"
           }
          ],
          "pie": [
           {
            "automargin": true,
            "type": "pie"
           }
          ],
          "scatter": [
           {
            "fillpattern": {
             "fillmode": "overlay",
             "size": 10,
             "solidity": 0.2
            },
            "type": "scatter"
           }
          ],
          "scatter3d": [
           {
            "line": {
             "colorbar": {
              "outlinewidth": 0,
              "ticks": ""
             }
            },
            "marker": {
             "colorbar": {
              "outlinewidth": 0,
              "ticks": ""
             }
            },
            "type": "scatter3d"
           }
          ],
          "scattercarpet": [
           {
            "marker": {
             "colorbar": {
              "outlinewidth": 0,
              "ticks": ""
             }
            },
            "type": "scattercarpet"
           }
          ],
          "scattergeo": [
           {
            "marker": {
             "colorbar": {
              "outlinewidth": 0,
              "ticks": ""
             }
            },
            "type": "scattergeo"
           }
          ],
          "scattergl": [
           {
            "marker": {
             "colorbar": {
              "outlinewidth": 0,
              "ticks": ""
             }
            },
            "type": "scattergl"
           }
          ],
          "scattermapbox": [
           {
            "marker": {
             "colorbar": {
              "outlinewidth": 0,
              "ticks": ""
             }
            },
            "type": "scattermapbox"
           }
          ],
          "scatterpolar": [
           {
            "marker": {
             "colorbar": {
              "outlinewidth": 0,
              "ticks": ""
             }
            },
            "type": "scatterpolar"
           }
          ],
          "scatterpolargl": [
           {
            "marker": {
             "colorbar": {
              "outlinewidth": 0,
              "ticks": ""
             }
            },
            "type": "scatterpolargl"
           }
          ],
          "scatterternary": [
           {
            "marker": {
             "colorbar": {
              "outlinewidth": 0,
              "ticks": ""
             }
            },
            "type": "scatterternary"
           }
          ],
          "surface": [
           {
            "colorbar": {
             "outlinewidth": 0,
             "ticks": ""
            },
            "colorscale": [
             [
              0,
              "#0d0887"
             ],
             [
              0.1111111111111111,
              "#46039f"
             ],
             [
              0.2222222222222222,
              "#7201a8"
             ],
             [
              0.3333333333333333,
              "#9c179e"
             ],
             [
              0.4444444444444444,
              "#bd3786"
             ],
             [
              0.5555555555555556,
              "#d8576b"
             ],
             [
              0.6666666666666666,
              "#ed7953"
             ],
             [
              0.7777777777777778,
              "#fb9f3a"
             ],
             [
              0.8888888888888888,
              "#fdca26"
             ],
             [
              1,
              "#f0f921"
             ]
            ],
            "type": "surface"
           }
          ],
          "table": [
           {
            "cells": {
             "fill": {
              "color": "#EBF0F8"
             },
             "line": {
              "color": "white"
             }
            },
            "header": {
             "fill": {
              "color": "#C8D4E3"
             },
             "line": {
              "color": "white"
             }
            },
            "type": "table"
           }
          ]
         },
         "layout": {
          "annotationdefaults": {
           "arrowcolor": "#2a3f5f",
           "arrowhead": 0,
           "arrowwidth": 1
          },
          "autotypenumbers": "strict",
          "coloraxis": {
           "colorbar": {
            "outlinewidth": 0,
            "ticks": ""
           }
          },
          "colorscale": {
           "diverging": [
            [
             0,
             "#8e0152"
            ],
            [
             0.1,
             "#c51b7d"
            ],
            [
             0.2,
             "#de77ae"
            ],
            [
             0.3,
             "#f1b6da"
            ],
            [
             0.4,
             "#fde0ef"
            ],
            [
             0.5,
             "#f7f7f7"
            ],
            [
             0.6,
             "#e6f5d0"
            ],
            [
             0.7,
             "#b8e186"
            ],
            [
             0.8,
             "#7fbc41"
            ],
            [
             0.9,
             "#4d9221"
            ],
            [
             1,
             "#276419"
            ]
           ],
           "sequential": [
            [
             0,
             "#0d0887"
            ],
            [
             0.1111111111111111,
             "#46039f"
            ],
            [
             0.2222222222222222,
             "#7201a8"
            ],
            [
             0.3333333333333333,
             "#9c179e"
            ],
            [
             0.4444444444444444,
             "#bd3786"
            ],
            [
             0.5555555555555556,
             "#d8576b"
            ],
            [
             0.6666666666666666,
             "#ed7953"
            ],
            [
             0.7777777777777778,
             "#fb9f3a"
            ],
            [
             0.8888888888888888,
             "#fdca26"
            ],
            [
             1,
             "#f0f921"
            ]
           ],
           "sequentialminus": [
            [
             0,
             "#0d0887"
            ],
            [
             0.1111111111111111,
             "#46039f"
            ],
            [
             0.2222222222222222,
             "#7201a8"
            ],
            [
             0.3333333333333333,
             "#9c179e"
            ],
            [
             0.4444444444444444,
             "#bd3786"
            ],
            [
             0.5555555555555556,
             "#d8576b"
            ],
            [
             0.6666666666666666,
             "#ed7953"
            ],
            [
             0.7777777777777778,
             "#fb9f3a"
            ],
            [
             0.8888888888888888,
             "#fdca26"
            ],
            [
             1,
             "#f0f921"
            ]
           ]
          },
          "colorway": [
           "#636efa",
           "#EF553B",
           "#00cc96",
           "#ab63fa",
           "#FFA15A",
           "#19d3f3",
           "#FF6692",
           "#B6E880",
           "#FF97FF",
           "#FECB52"
          ],
          "font": {
           "color": "#2a3f5f"
          },
          "geo": {
           "bgcolor": "white",
           "lakecolor": "white",
           "landcolor": "#E5ECF6",
           "showlakes": true,
           "showland": true,
           "subunitcolor": "white"
          },
          "hoverlabel": {
           "align": "left"
          },
          "hovermode": "closest",
          "mapbox": {
           "style": "light"
          },
          "paper_bgcolor": "white",
          "plot_bgcolor": "#E5ECF6",
          "polar": {
           "angularaxis": {
            "gridcolor": "white",
            "linecolor": "white",
            "ticks": ""
           },
           "bgcolor": "#E5ECF6",
           "radialaxis": {
            "gridcolor": "white",
            "linecolor": "white",
            "ticks": ""
           }
          },
          "scene": {
           "xaxis": {
            "backgroundcolor": "#E5ECF6",
            "gridcolor": "white",
            "gridwidth": 2,
            "linecolor": "white",
            "showbackground": true,
            "ticks": "",
            "zerolinecolor": "white"
           },
           "yaxis": {
            "backgroundcolor": "#E5ECF6",
            "gridcolor": "white",
            "gridwidth": 2,
            "linecolor": "white",
            "showbackground": true,
            "ticks": "",
            "zerolinecolor": "white"
           },
           "zaxis": {
            "backgroundcolor": "#E5ECF6",
            "gridcolor": "white",
            "gridwidth": 2,
            "linecolor": "white",
            "showbackground": true,
            "ticks": "",
            "zerolinecolor": "white"
           }
          },
          "shapedefaults": {
           "line": {
            "color": "#2a3f5f"
           }
          },
          "ternary": {
           "aaxis": {
            "gridcolor": "white",
            "linecolor": "white",
            "ticks": ""
           },
           "baxis": {
            "gridcolor": "white",
            "linecolor": "white",
            "ticks": ""
           },
           "bgcolor": "#E5ECF6",
           "caxis": {
            "gridcolor": "white",
            "linecolor": "white",
            "ticks": ""
           }
          },
          "title": {
           "x": 0.05
          },
          "xaxis": {
           "automargin": true,
           "gridcolor": "white",
           "linecolor": "white",
           "ticks": "",
           "title": {
            "standoff": 15
           },
           "zerolinecolor": "white",
           "zerolinewidth": 2
          },
          "yaxis": {
           "automargin": true,
           "gridcolor": "white",
           "linecolor": "white",
           "ticks": "",
           "title": {
            "standoff": 15
           },
           "zerolinecolor": "white",
           "zerolinewidth": 2
          }
         }
        },
        "title": {
         "font": {
          "size": 20
         },
         "text": "Количество вылетов к количеству самолетов",
         "x": 0.5
        },
        "xaxis": {
         "anchor": "y",
         "domain": [
          0,
          1
         ],
         "title": {
          "text": "Сколько потребовалось вылето для того что бы найти корабль"
         }
        },
        "yaxis": {
         "anchor": "x",
         "domain": [
          0,
          1
         ],
         "title": {
          "text": "Количество самолетов"
         }
        }
       }
      }
     },
     "metadata": {},
     "output_type": "display_data"
    },
    {
     "name": "stdout",
     "output_type": "stream",
     "text": [
      "Параметр геометрического распределения p : 0.365\n",
      "\n",
      "Ожидаемая вероятность для 1 вылета - 0.36496\n",
      "Ожидаемая вероятность для 2 вылета - 0.23177\n",
      "Ожидаемая вероятность для 3 вылета - 0.14718\n",
      "Ожидаемая вероятность для 4 вылета - 0.09346\n",
      "Ожидаемая вероятность для 5 вылета - 0.05935\n",
      "Ожидаемая вероятность для 6 вылета - 0.03769\n",
      "Ожидаемая вероятность для 7 вылета - 0.02394\n",
      "Ожидаемая вероятность для 8 вылета - 0.0152\n",
      "Ожидаемая вероятность для 9 вылета - 0.00965\n",
      "\n",
      "Ожидаемая частота для 1 вылета - 36.5\n",
      "Ожидаемая частота для 2 вылета - 23.2\n",
      "Ожидаемая частота для 3 вылета - 14.7\n",
      "Ожидаемая частота для 4 вылета - 9.3\n",
      "Ожидаемая частота для 5 вылета - 5.9\n",
      "Ожидаемая частота для 6 вылета - 3.8\n",
      "Ожидаемая частота для 7 вылета - 2.4\n",
      "Ожидаемая частота для 8 вылета - 1.5\n",
      "Ожидаемая частота для 9 вылета - 1.0\n",
      "\n",
      "Значение хи-квадрат 7.561120993842573\n",
      "Значение критического занчения хи-квадрат 14.067140449340169\n",
      "Нельзя отклонить нулевую гипотезу\n",
      "\n",
      "P-Value : 0.37287773789491374\n",
      "Уровень занчимости : 0.05\n",
      "Нельзя отклонить нулевую гипотезу\n",
      "\n"
     ]
    }
   ],
   "source": [
    "# Первоначальный анализ данных с помощью гистограммы\n",
    "departure = np.array([1, 2, 3, 4, 5, 6, 7, 8, 9])\n",
    "quantity = np.array([36, 23, 11, 13, 8, 3, 2, 1, 3])\n",
    "alpha = 0.05\n",
    "print(sum(quantity))\n",
    "# График показывает какое количетсво самолетов нашло корабль с первого раза, со второго и т.д.\n",
    "fig = px.bar(x=departure, y=quantity)\n",
    "fig.update_layout(\n",
    "    title=dict(text=\"Количество вылетов к количеству самолетов\", font=dict(size=20), x=0.5),\n",
    "    xaxis_title=\"Сколько потребовалось вылето для того что бы найти корабль\",\n",
    "    yaxis_title=\"Количество самолетов\"\n",
    ")\n",
    "fig.show()\n",
    "\n",
    "# Анализируя гистограмму можно сделать вывод, что перед нами геометрическое распределение\n",
    "# Также задача постаяленная перед каждым экипажем - найти кобаль.\n",
    "# Это укладывается в суть геометрического распределения, которое описывает количество испытаний k\n",
    "# до первого успеха при вероятности наступления успеха p в каждом испытании.\n",
    "\n",
    "# Нулевая гипотиза H0 - распределение геометрическое\n",
    "# Альтернативная гипотиза HA - распределение НЕ геометрическое\n",
    "\n",
    "# параметр геометрического распределения\n",
    "quantity_departure_lst = [quantity[i]*departure[i] for i in range(len(quantity))]\n",
    "p = 1 / (sum(quantity_departure_lst)/100)\n",
    "print(f'Параметр геометрического распределения p : {round(p, 3)}')\n",
    "print()\n",
    "# ожидаемые вероятности\n",
    "# (1-p)**(k-1) * p\n",
    "# PMF геометрического распределения\n",
    "expected_prob = []\n",
    "for i in range(len(departure)):\n",
    "    expected_prob.append(round((1-p) ** (departure[i]-1) * p, 3))\n",
    "    print(f'Ожидаемая вероятность для {i+1} вылета - {round((1-p) ** (departure[i]-1) * p, 5)}')\n",
    "print()\n",
    "\n",
    "# ожидаемые частоты\n",
    "# E = PMF * n\n",
    "frequency = []\n",
    "for i in range(len(expected_prob)):\n",
    "    frequency.append(round(expected_prob[i] * 100, 3))\n",
    "    print(f'Ожидаемая частота для {i+1} вылета - {round(expected_prob[i] * 100, 5)}')\n",
    "print()\n",
    "\n",
    "# расчет χ2\n",
    "chi2_score = 0\n",
    "for i in range(len(frequency)):\n",
    "    chi2_score += ((quantity[i] - frequency[i])**2) / frequency[i]\n",
    "\n",
    "# принятие решения\n",
    "# Степени свободы = количеству категорий - количество оцениваемых параметров - 1\n",
    "chi2_critical = stats.chi2.ppf(1 - alpha, df=7)\n",
    "\n",
    "print(f'χ2 {chi2_score}')\n",
    "print(f'Критическое значение χ2 {chi2_critical}')\n",
    "\n",
    "if np.abs(chi2_score) > chi2_critical:\n",
    "    print(\"Отклонить нулевую гипотез\")\n",
    "else:\n",
    "    print(\"Нельзя отклонить нулевую гипотезу\")\n",
    "print()\n",
    "\n",
    "p_value = 1 - stats.chi2.cdf(np.abs(chi2_score), df = 7)\n",
    "\n",
    "print('P-Value :',p_value)\n",
    "print('Уровень занчимости :', alpha)\n",
    "\n",
    "if p_value < alpha:\n",
    "    print(\"Отклонить нулевую гипотезу\")\n",
    "else:\n",
    "    print(\"Нельзя отклонить нулевую гипотезу\")\n",
    "\n",
    "\n",
    "# Статистический вывод:\n",
    "# Нет оснований отвергнуть нулевую гипотезу в пользу альтернативной\n",
    "\n",
    "# Содержательный вывод:\n",
    "# На основе полученных данных, можно сделать заключение, что выбрано верное распределние\n",
    "# и оно является геометрическим"
   ]
  },
  {
   "cell_type": "markdown",
   "id": "683c7734-8ec4-47f3-a4f9-97a18d46ad53",
   "metadata": {},
   "source": [
    "**Задание 10 (про цвет глаз и волос)**"
   ]
  },
  {
   "cell_type": "code",
   "execution_count": null,
   "id": "9b332ef6-d1f6-4f3a-8a67-59a2f50f149d",
   "metadata": {},
   "outputs": [
    {
     "name": "stdout",
     "output_type": "stream",
     "text": [
      "χ2 0.09615384615384615\n",
      "Критическое значение χ2 9.487729036781154\n",
      "Нельзя отклонить нулевую гипотезу\n",
      "\n",
      "P-Value : 0.9988806869095861\n",
      "Уровень занчимости : 0.05\n",
      "Нельзя отклонить нулевую гипотезу\n"
     ]
    }
   ],
   "source": [
    "# Требуется проверить наличие связи между параметрами или её отсутствие\n",
    "# Необходимо использовать χ2-тест\n",
    "\n",
    "# Нулевая гипотиза H0 - нет связи между цветом глаз и цветом волос\n",
    "# Альтернативная гипотиза HA - есть связь между цветом глаз и цветом волос\n",
    "\n",
    "data = np.array([[35, 52, 13], [28, 42, 10], [7, 10, 3]])\n",
    "alpha = 0.05\n",
    "\n",
    "# расчет\n",
    "res = stats.chi2_contingency(data)\n",
    "chi2_score, p_value = res.statistic, res.pvalue\n",
    "nu = (data.shape[0]-1)*(data.shape[1]-1)\n",
    "\n",
    "# Принятие решения\n",
    "chi2_critical = stats.chi2.ppf(1 - alpha, df=nu)\n",
    "print(f'χ2 {chi2_score}')\n",
    "print(f'Критическое значение χ2 {chi2_critical}')\n",
    "\n",
    "if np.abs(chi2_score) > chi2_critical:\n",
    "    print(\"Отклонить нулевую гипотезу\")\n",
    "else:\n",
    "    print(\"Нельзя отклонить нулевую гипотезу\")\n",
    "print()\n",
    "\n",
    "p_value = 1 - stats.chi2.cdf(np.abs(chi2_score), df = nu)\n",
    "print('P-Value :',p_value)\n",
    "print('Уровень занчимости :', alpha)\n",
    "\n",
    "if p_value < alpha:\n",
    "    print(\"Отклонить нулевую гипотезу\")\n",
    "else:\n",
    "    print(\"Нельзя отклонить нулевую гипотезу\")\n",
    "\n",
    "# Статистический вывод:\n",
    "# Нет оснований отвергнуть нулевую гипотезу в пользу альтернативной\n",
    "\n",
    "# Содержательный вывод:\n",
    "# Взаимосвязи между цветом глаз и цветом волос нет"
   ]
  },
  {
   "cell_type": "markdown",
   "id": "181ab8f2-c071-4803-ad2e-3f10813f0c6a",
   "metadata": {},
   "source": [
    "Задание 11 (про тигров)"
   ]
  },
  {
   "cell_type": "code",
   "execution_count": null,
   "id": "da071797-ff7a-4b0c-8553-0df933687fe4",
   "metadata": {},
   "outputs": [
    {
     "name": "stdout",
     "output_type": "stream",
     "text": [
      "F-score: 21.927813243053045\n",
      "Critical F-Score: 2.782600423434607\n",
      "Отклонить нулевую гипотезу\n",
      "\n",
      "P-Value : 2.5927802386467297e-09\n",
      "Уровень занчимости : 0.05\n",
      "Отклонить нулевую гипотезу\n",
      "\n",
      "Tukey's HSD Pairwise Group Comparisons (95.0% Confidence Interval)\n",
      "Comparison  Statistic  p-value  Lower CI  Upper CI\n",
      " (0 - 1)     21.500     0.000    10.981    32.019\n",
      " (0 - 2)     -5.857     0.458   -16.376     4.662\n",
      " (0 - 3)     16.857     0.000     6.338    27.376\n",
      " (1 - 0)    -21.500     0.000   -32.019   -10.981\n",
      " (1 - 2)    -27.357     0.000   -37.876   -16.838\n",
      " (1 - 3)     -4.643     0.647   -15.162     5.876\n",
      " (2 - 0)      5.857     0.458    -4.662    16.376\n",
      " (2 - 1)     27.357     0.000    16.838    37.876\n",
      " (2 - 3)     22.714     0.000    12.195    33.233\n",
      " (3 - 0)    -16.857     0.000   -27.376    -6.338\n",
      " (3 - 1)      4.643     0.647    -5.876    15.162\n",
      " (3 - 2)    -22.714     0.000   -33.233   -12.195\n",
      "\n"
     ]
    }
   ],
   "source": [
    "# Требуется оценить влияние корма на среднее значение массы тигра\n",
    "# Анализируется с помощью одной переменной\n",
    "# Необходимо использовать однофакторный дисперсионный анализ ANOVA\n",
    "\n",
    "# Нулевая гипотиза H0 - значения массы тигров для всех кормов одинаковы\n",
    "# Альтернативная гипотиза HA - значения массы тигров для всех кормов НЕ одинаковы\n",
    "\n",
    "food_1 = np.array([151, 135, 137, 118, 132, 135, 131, 121, 137, 140, 152, 133, 151, 132])\n",
    "food_2 = np.array([108, 123, 145, 103, 110, 124, 116, 108, 104, 130, 106, 105, 114, 108])\n",
    "food_3 = np.array([140, 152, 149, 132, 124, 146, 156, 137, 124, 145, 147, 139, 157, 139])\n",
    "food_4 = np.array([127, 135, 110, 116, 119, 123, 102, 121, 118, 120, 114, 134, 121, 109])\n",
    "alpha = 0.05\n",
    "\n",
    "# расчет f-оценки, p-значения и степеней свободы\n",
    "f_score, p_value = stats.f_oneway(food_1, food_2, food_3, food_4)\n",
    "df_b = 4 - 1\n",
    "df_e = 4 * (len(food_1) - 1)\n",
    "\n",
    "# Расчет критической f-оценки\n",
    "f_critical = stats.f.ppf(1 - alpha, dfn = df_b, dfd = df_e)\n",
    "\n",
    "# принятие решения\n",
    "print('F-score:', np.abs(f_score))\n",
    "print('Critical F-Score:', f_critical)\n",
    "\n",
    "if np.abs(f_score) > f_critical:\n",
    "    print(\"Отклонить нулевую гипотезу\")\n",
    "else:\n",
    "    print(\"Нельзя отклонить нулевую гипотезу\")\n",
    "print()\n",
    "\n",
    "print('P-Value :',p_value)\n",
    "print('Уровень занчимости :', alpha)\n",
    "\n",
    "if p_value < alpha:\n",
    "    print(\"Отклонить нулевую гипотезу\")\n",
    "else:\n",
    "    print(\"Нельзя отклонить нулевую гипотезу\")\n",
    "print()\n",
    "\n",
    "# Статистический вывод:\n",
    "# Есть основания отвергнуть нулевую гипотезу в пользу альтернатиной\n",
    "\n",
    "# Содержательный вывод:\n",
    "# Средние значения массы тигров для всех 4 кормов не равны\n",
    "# Влияние корма на среднее значение массы тигра есть\n",
    "# Необходимо применить тест Тьюки для определения в каких группах наблюдается существенное отличие в средних\n",
    "\n",
    "# тест Тьюки\n",
    "print(stats.tukey_hsd(food_1, food_2, food_3, food_4))\n",
    "\n",
    "# сравнение p-value < alpha\n",
    "# различие существуют между кормами:\n",
    "#   №1 и №2\n",
    "#   №1 и №4\n",
    "#   №2 и №3\n",
    "#   №3 и №4\n"
   ]
  },
  {
   "cell_type": "markdown",
   "id": "2e2b26c8-37a6-41dc-82c5-20e35e44aee0",
   "metadata": {},
   "source": [
    "Задание 12 (про белок)"
   ]
  },
  {
   "cell_type": "code",
   "execution_count": null,
   "id": "f86f1f46-31d1-4529-a3b7-a196dc2a3048",
   "metadata": {},
   "outputs": [
    {
     "name": "stdout",
     "output_type": "stream",
     "text": [
      "                   df      sum_sq       mean_sq          F        PR(>F)\n",
      "Выводок           1.0   202705.20  2.027052e+05   6.625443  1.610246e-02\n",
      "Возраст           1.0  2355038.45  2.355038e+06  76.974705  3.002793e-09\n",
      "Выводок:Возраст   1.0    14526.05  1.452605e+04   0.474786  4.968973e-01\n",
      "Residual         26.0   795469.10  3.059497e+04        NaN           NaN\n",
      "\n",
      "P-Value : 0.0161\n",
      "Уровень занчимости : 0.05\n",
      "Для значения 'Выводок' необходимо отклонить нулевую гипотезу\n",
      "\n",
      "P-Value : 0.0\n",
      "Уровень занчимости : 0.05\n",
      "Для значения 'Возраст' необходимо отклонить нулевую гипотезу\n",
      "\n",
      "P-Value : 0.4969\n",
      "Уровень занчимости : 0.05\n",
      "Для значения 'Выводок:Возраст' нет оснований отклонить нулевую гипотезу\n",
      "\n"
     ]
    }
   ],
   "source": [
    "# Требуется определить наличие статистически значимых различий между группами по двум независимым переменным\n",
    "# Необходимо использовать двухфакторный дисперсионный анализ ANOVA\n",
    "\n",
    "# Нулевая гипотиза H0:\n",
    "#   1) наличие выводка НЕ влияет на массу белки\n",
    "#   2) возраст НЕ влияет на массу белки\n",
    "#   3) НЕТ взаимосвязи между возрастом и наличием выводка\n",
    "# Альтернативная гипотиза HA:\n",
    "#   1) наличие выводка влияет на массу белки\n",
    "#   2) возраст влияет на массу белки\n",
    "#   3) есть взаимосвязь между возрастом и наличием выводка\n",
    "\n",
    "alpha = 0.05\n",
    "\n",
    "# Формируем данные\n",
    "# Создаем DataFrame\n",
    "df = pd.DataFrame({\n",
    "    'Выводок': [False] * 5 + [True] * 5 + [False] * 5 + [True] * 5 + [False] * 5 + [True] * 5,\n",
    "    'Возраст': [1] * 10 + [2] * 10 + [3] * 10,\n",
    "    'Вес': [440, 438, 429, 502, 602, 308, 328, 326, 326, 325,\n",
    "               892, 868, 855, 866, 932, 737, 798, 876, 810, 861,\n",
    "               1575, 849, 759, 1602, 1327, 1001, 901, 958, 1032, 883]\n",
    "               })\n",
    "# print(df)\n",
    "\n",
    "# анализ ANOVA\n",
    "model = ols('Вес ~ Выводок + Возраст + Выводок:Возраст', data=df).fit()\n",
    "anova_results = anova_lm(model, typ=1)\n",
    "print(anova_results)\n",
    "print()\n",
    "# PR(>F) – это p-value\n",
    "for k, v in anova_results['PR(>F)'][0:3].items():\n",
    "    print('P-Value :', round(v, 5))\n",
    "    print('Уровень занчимости :', alpha)\n",
    "    if v < alpha:\n",
    "        print(f\"Для значения '{k}' необходимо отклонить нулевую гипотезу\")\n",
    "    else:\n",
    "        print(f\"Для значения '{k}' нет оснований отклонить нулевую гипотезу\")\n",
    "    print()\n",
    "\n",
    "# Статистический вывод:\n",
    "# 1) Есть основаная отвергнуть нулевую гипотизу о влияние выводка на массу белки в пользу альтернативной\n",
    "# 2) Есть основаная отвергнуть нулевую гипотизу о влияние возраста на массу белки в пользу альтернативной\n",
    "# 3) Нет оснований отвергнуть нулевую гипотизу об отсутствие взаимосвязи между возрастом и наличием выводка в пользу альтернативной \n",
    "\n",
    "# Содержательный вывод:\n",
    "# 1) Существует статистически значимая связь наличия выводка у белки и ее массы\n",
    "# 2) Существует статистически значимая связь возраста белки и ее массы\n",
    "# 3) Взаимосвязь возраста и наличия/отсуствие выводка не имеет статистической значимой связи\n"
   ]
  }
 ],
 "metadata": {
  "kernelspec": {
   "display_name": ".venv",
   "language": "python",
   "name": "python3"
  },
  "language_info": {
   "codemirror_mode": {
    "name": "ipython",
    "version": 3
   },
   "file_extension": ".py",
   "mimetype": "text/x-python",
   "name": "python",
   "nbconvert_exporter": "python",
   "pygments_lexer": "ipython3",
   "version": "3.12.2"
  }
 },
 "nbformat": 4,
 "nbformat_minor": 5
}
